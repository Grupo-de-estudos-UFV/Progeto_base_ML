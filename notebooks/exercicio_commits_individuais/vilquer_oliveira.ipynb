{
 "cells": [
  {
   "cell_type": "markdown",
   "id": "e7307b08-504a-4872-b913-b5e4caeca10d",
   "metadata": {},
   "source": [
    "# Mini Manual de Configuração SSH e Git\n",
    "\n",
    "## 1. Criar uma chave SSH\n",
    "Para criar uma nova chave SSH, abra o terminal e execute o comando abaixo. Substitua seu_email@example.com pelo seu email real.\n",
    "ssh-keygen -t ed25519 -C \"seu_email@example.com\"\n",
    "Pressione Enter para aceitar o local padrão do arquivo e inserir uma senha se desejar.\n",
    "\n",
    "## 2. Exibir a chave SSH pública\n",
    "Para visualizar sua chave pública SSH (que você colará no GitHub ou outro serviço), use o comando:\n",
    "cat ~/.ssh/id_ed25519.pub\n",
    "Copie toda a linha exibida pelo terminal. e cole na área especifica do GitHub\n",
    "\n",
    "## 3. Configurar usuário e email no Git\n",
    "Configure o nome de usuário e o email associado à sua conta do Git com os seguintes comandos, substituindo com suas informações pessoais:\n",
    "git config --global user.name \"seu usuário no github\"\n",
    "git config --global user.email \"seu_email@ufv.br\"\n",
    "\n",
    "## 4. Clonar o repositório\n",
    "Para clonar o repositório desejado, use:\n",
    "git clone git@github.com:Grupo-de-estudos-UFV/Projeto_base_ML.git\n",
    "\n",
    "## 5. Gerenciar branches\n",
    "- Listar branches locais:\n",
    "  git branch\n",
    "- Criar e mudar para uma nova branch: substitua \"seu nome\"\n",
    "  git checkout -b develop_\"seu nome\"\n",
    "### Se for necessário:\n",
    "- Deletar uma branch local (este comando deleta a branch develop_\"seu nome\"):\n",
    "  git branch -d develop_\"seu nome\"\n",
    "  Nota: o comando correto para criar uma branch, caso tenha se enganado anteriormente, seria git checkout -b nome_da_branch(develop_\"seu nome\").\n",
    "- Mudar para outra branch:\n",
    "  git switch develop_\"seu nome\"\n",
    "\n",
    "## 6. Trabalhando com mudanças\n",
    "- Verificar o status do repositório:\n",
    "  git status\n",
    "- Adicionar mudanças para commit:\n",
    "  git add .\n",
    "- Commitar as mudanças:\n",
    "  git commit -m \"Descreva suas mudanças aqui\"\n",
    "\n",
    "## 7. Enviar mudanças para o repositório remoto\n",
    "- Configurar a branch remota:\n",
    "  git push --set-upstream origin develop_\"seu nome\"\n",
    "- Empurrar as mudanças:\n",
    "  git push\n",
    "  Nota: para puxar uas mudaças do githup para pasta local:\n",
    "  git pull\n",
    "\n"
   ]
  },
  {
   "cell_type": "code",
   "execution_count": null,
   "id": "a7164dca-72d8-4abd-923c-b4ceeb02f221",
   "metadata": {},
   "outputs": [],
   "source": []
  }
 ],
 "metadata": {
  "kernelspec": {
   "display_name": "Python 3 (ipykernel)",
   "language": "python",
   "name": "python3"
  },
  "language_info": {
   "codemirror_mode": {
    "name": "ipython",
    "version": 3
   },
   "file_extension": ".py",
   "mimetype": "text/x-python",
   "name": "python",
   "nbconvert_exporter": "python",
   "pygments_lexer": "ipython3",
   "version": "3.10.12"
  }
 },
 "nbformat": 4,
 "nbformat_minor": 5
}
